{
  "nbformat": 4,
  "nbformat_minor": 0,
  "metadata": {
    "colab": {
      "name": "myFirstPython-PL_ipynb",
      "provenance": [],
      "authorship_tag": "ABX9TyPmkCu5Lr15jPeLGccxtZED",
      "include_colab_link": true
    },
    "kernelspec": {
      "name": "python3",
      "display_name": "Python 3"
    },
    "language_info": {
      "name": "python"
    }
  },
  "cells": [
    {
      "cell_type": "markdown",
      "metadata": {
        "id": "view-in-github",
        "colab_type": "text"
      },
      "source": [
        "<a href=\"https://colab.research.google.com/github/shinjuhui/colab/blob/main/myFirstPython_PL_ipynb.ipynb\" target=\"_parent\"><img src=\"https://colab.research.google.com/assets/colab-badge.svg\" alt=\"Open In Colab\"/></a>"
      ]
    },
    {
      "cell_type": "markdown",
      "source": [
        "나의 첫 파이썬 프로그래밍"
      ],
      "metadata": {
        "id": "gWV6fL4dDekV"
      }
    },
    {
      "cell_type": "code",
      "execution_count": null,
      "metadata": {
        "colab": {
          "base_uri": "https://localhost:8080/"
        },
        "id": "5K1zAP4uDLrK",
        "outputId": "6e94e622-0c3d-471a-bd85-1b9c905d5119"
      },
      "outputs": [
        {
          "output_type": "stream",
          "name": "stdout",
          "text": [
            "컴퓨터과 3학년 1반 13번 신주희\n"
          ]
        }
      ],
      "source": [
        "print(\"컴퓨터과 3학년 1반 13번 신주희\")"
      ]
    }
  ]
}